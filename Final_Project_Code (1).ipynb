{
  "nbformat": 4,
  "nbformat_minor": 0,
  "metadata": {
    "colab": {
      "provenance": []
    },
    "kernelspec": {
      "name": "python3",
      "display_name": "Python 3"
    },
    "language_info": {
      "name": "python"
    }
  },
  "cells": [
    {
      "cell_type": "code",
      "execution_count": null,
      "metadata": {
        "colab": {
          "base_uri": "https://localhost:8080/"
        },
        "id": "vWkd2nxMybUe",
        "outputId": "efb7433c-fc7b-4690-9752-b9a8d787e807"
      },
      "outputs": [
        {
          "output_type": "stream",
          "name": "stdout",
          "text": [
            "The file is not a valid zip archive.\n"
          ]
        }
      ],
      "source": [
        "import zipfile\n",
        "import os\n",
        "\n",
        "\n",
        "file_path = '/content/human+activity+recognition+using+smartphones.zip'  # replace with actual path\n",
        "\n",
        "if zipfile.is_zipfile(file_path):\n",
        "    with zipfile.ZipFile(file_path, 'r') as zip_ref:\n",
        "        zip_ref.extractall('destination_path')\n",
        "else:\n",
        "    print(\"The file is not a valid zip archive.\")\n"
      ]
    },
    {
      "cell_type": "code",
      "source": [
        "import pandas as pd\n",
        "\n",
        "# Load feature names\n",
        "feature_names = pd.read_csv(f\"{extract_path}/UCI HAR Dataset/features.txt\", sep=\"\\s+\", header=None, usecols=[1]).squeeze().tolist()\n",
        "\n",
        "# Ensure unique column names\n",
        "unique_feature_names = []\n",
        "seen = set()\n",
        "for name in feature_names:\n",
        "    if name in seen:\n",
        "        count = 1\n",
        "        new_name = f\"{name}_{count}\"\n",
        "        while new_name in seen:\n",
        "            count += 1\n",
        "            new_name = f\"{name}_{count}\"\n",
        "        unique_feature_names.append(new_name)\n",
        "        seen.add(new_name)\n",
        "    else:\n",
        "        unique_feature_names.append(name)\n",
        "        seen.add(name)\n",
        "\n",
        "# Load training and testing data\n",
        "X_train = pd.read_csv(f\"{extract_path}/UCI HAR Dataset/train/X_train.txt\", sep=\"\\s+\", header=None, names=unique_feature_names)\n",
        "y_train = pd.read_csv(f\"{extract_path}/UCI HAR Dataset/train/y_train.txt\", sep=\"\\s+\", header=None, names=[\"Activity\"])\n",
        "\n",
        "X_test = pd.read_csv(f\"{extract_path}/UCI HAR Dataset/test/X_test.txt\", sep=\"\\s+\", header=None, names=unique_feature_names)\n",
        "y_test = pd.read_csv(f\"{extract_path}/UCI HAR Dataset/test/y_test.txt\", sep=\"\\s+\", header=None, names=[\"Activity\"])\n",
        "\n",
        "print(\"Dataset loaded successfully!\")"
      ],
      "metadata": {
        "colab": {
          "base_uri": "https://localhost:8080/"
        },
        "id": "g-dC-eZ0y_rM",
        "outputId": "514ce6ec-1f15-4872-8674-945c8f35c319"
      },
      "execution_count": null,
      "outputs": [
        {
          "output_type": "stream",
          "name": "stdout",
          "text": [
            "Dataset loaded successfully!\n"
          ]
        }
      ]
    },
    {
      "cell_type": "code",
      "source": [
        "# Display first few rows of X_train\n",
        "print(\"First few rows of X_train:\")\n",
        "print(X_train.head())\n"
      ],
      "metadata": {
        "colab": {
          "base_uri": "https://localhost:8080/"
        },
        "id": "okrNqwaby_up",
        "outputId": "4a17f517-ea23-406c-ab63-2ae93b95aa35"
      },
      "execution_count": null,
      "outputs": [
        {
          "output_type": "stream",
          "name": "stdout",
          "text": [
            "First few rows of X_train:\n",
            "   tBodyAcc-mean()-X  tBodyAcc-mean()-Y  tBodyAcc-mean()-Z  tBodyAcc-std()-X  \\\n",
            "0           0.288585          -0.020294          -0.132905         -0.995279   \n",
            "1           0.278419          -0.016411          -0.123520         -0.998245   \n",
            "2           0.279653          -0.019467          -0.113462         -0.995380   \n",
            "3           0.279174          -0.026201          -0.123283         -0.996091   \n",
            "4           0.276629          -0.016570          -0.115362         -0.998139   \n",
            "\n",
            "   tBodyAcc-std()-Y  tBodyAcc-std()-Z  tBodyAcc-mad()-X  tBodyAcc-mad()-Y  \\\n",
            "0         -0.983111         -0.913526         -0.995112         -0.983185   \n",
            "1         -0.975300         -0.960322         -0.998807         -0.974914   \n",
            "2         -0.967187         -0.978944         -0.996520         -0.963668   \n",
            "3         -0.983403         -0.990675         -0.997099         -0.982750   \n",
            "4         -0.980817         -0.990482         -0.998321         -0.979672   \n",
            "\n",
            "   tBodyAcc-mad()-Z  tBodyAcc-max()-X  ...  fBodyBodyGyroJerkMag-meanFreq()  \\\n",
            "0         -0.923527         -0.934724  ...                        -0.074323   \n",
            "1         -0.957686         -0.943068  ...                         0.158075   \n",
            "2         -0.977469         -0.938692  ...                         0.414503   \n",
            "3         -0.989302         -0.938692  ...                         0.404573   \n",
            "4         -0.990441         -0.942469  ...                         0.087753   \n",
            "\n",
            "   fBodyBodyGyroJerkMag-skewness()  fBodyBodyGyroJerkMag-kurtosis()  \\\n",
            "0                        -0.298676                        -0.710304   \n",
            "1                        -0.595051                        -0.861499   \n",
            "2                        -0.390748                        -0.760104   \n",
            "3                        -0.117290                        -0.482845   \n",
            "4                        -0.351471                        -0.699205   \n",
            "\n",
            "   angle(tBodyAccMean,gravity)  angle(tBodyAccJerkMean),gravityMean)  \\\n",
            "0                    -0.112754                              0.030400   \n",
            "1                     0.053477                             -0.007435   \n",
            "2                    -0.118559                              0.177899   \n",
            "3                    -0.036788                             -0.012892   \n",
            "4                     0.123320                              0.122542   \n",
            "\n",
            "   angle(tBodyGyroMean,gravityMean)  angle(tBodyGyroJerkMean,gravityMean)  \\\n",
            "0                         -0.464761                             -0.018446   \n",
            "1                         -0.732626                              0.703511   \n",
            "2                          0.100699                              0.808529   \n",
            "3                          0.640011                             -0.485366   \n",
            "4                          0.693578                             -0.615971   \n",
            "\n",
            "   angle(X,gravityMean)  angle(Y,gravityMean)  angle(Z,gravityMean)  \n",
            "0             -0.841247              0.179941             -0.058627  \n",
            "1             -0.844788              0.180289             -0.054317  \n",
            "2             -0.848933              0.180637             -0.049118  \n",
            "3             -0.848649              0.181935             -0.047663  \n",
            "4             -0.847865              0.185151             -0.043892  \n",
            "\n",
            "[5 rows x 561 columns]\n"
          ]
        }
      ]
    },
    {
      "cell_type": "code",
      "source": [
        "# Display first few rows of y_train\n",
        "print(\"\\nFirst few rows of y_train:\")\n",
        "print(y_train.head())"
      ],
      "metadata": {
        "colab": {
          "base_uri": "https://localhost:8080/"
        },
        "id": "jztMR_tSy_yM",
        "outputId": "fe710cf8-40b2-4cce-ecb0-e0aea9788c80"
      },
      "execution_count": null,
      "outputs": [
        {
          "output_type": "stream",
          "name": "stdout",
          "text": [
            "\n",
            "First few rows of y_train:\n",
            "   Activity\n",
            "0         5\n",
            "1         5\n",
            "2         5\n",
            "3         5\n",
            "4         5\n"
          ]
        }
      ]
    },
    {
      "cell_type": "code",
      "source": [
        "# Display shape of the dataset\n",
        "print(\"\\nX_train shape:\", X_train.shape)\n",
        "print(\"y_train shape:\", y_train.shape)\n",
        "print(\"X_test shape:\", X_test.shape)\n",
        "print(\"y_test shape:\", y_test.shape)"
      ],
      "metadata": {
        "colab": {
          "base_uri": "https://localhost:8080/"
        },
        "id": "hucxR9b2y_1o",
        "outputId": "5b12f67b-e9cb-4e89-d798-61d7c5eca264"
      },
      "execution_count": null,
      "outputs": [
        {
          "output_type": "stream",
          "name": "stdout",
          "text": [
            "\n",
            "X_train shape: (7352, 561)\n",
            "y_train shape: (7352, 1)\n",
            "X_test shape: (2947, 561)\n",
            "y_test shape: (2947, 1)\n"
          ]
        }
      ]
    },
    {
      "cell_type": "code",
      "source": [
        "import pandas as pd\n",
        "import numpy as np\n",
        "from sklearn.decomposition import PCA\n",
        "from sklearn.preprocessing import StandardScaler\n",
        "\n",
        "# Standardizing the dataset\n",
        "scaler = StandardScaler()\n",
        "X_train_scaled = scaler.fit_transform(X_train)\n",
        "X_test_scaled = scaler.transform(X_test)\n",
        "\n",
        "# Applying PCA (keeping 95% variance)\n",
        "pca = PCA(n_components=0.95)\n",
        "X_train_pca = pca.fit_transform(X_train_scaled)\n",
        "X_test_pca = pca.transform(X_test_scaled)\n",
        "\n",
        "# Converting to DataFrame\n",
        "X_train_pca_df = pd.DataFrame(X_train_pca)\n",
        "X_test_pca_df = pd.DataFrame(X_test_pca)"
      ],
      "metadata": {
        "id": "5mjDnZq7y_4e"
      },
      "execution_count": null,
      "outputs": []
    },
    {
      "cell_type": "code",
      "source": [
        "# Display dataset before PCA\n",
        "print(\"Original X_train (First 5 rows):\")\n",
        "print(pd.DataFrame(X_train).head())"
      ],
      "metadata": {
        "colab": {
          "base_uri": "https://localhost:8080/"
        },
        "id": "vY9DmlHGy_7U",
        "outputId": "c7456f97-2e8f-4fd2-9ecd-65e047dd65a0"
      },
      "execution_count": null,
      "outputs": [
        {
          "output_type": "stream",
          "name": "stdout",
          "text": [
            "Original X_train (First 5 rows):\n",
            "   tBodyAcc-mean()-X  tBodyAcc-mean()-Y  tBodyAcc-mean()-Z  tBodyAcc-std()-X  \\\n",
            "0           0.288585          -0.020294          -0.132905         -0.995279   \n",
            "1           0.278419          -0.016411          -0.123520         -0.998245   \n",
            "2           0.279653          -0.019467          -0.113462         -0.995380   \n",
            "3           0.279174          -0.026201          -0.123283         -0.996091   \n",
            "4           0.276629          -0.016570          -0.115362         -0.998139   \n",
            "\n",
            "   tBodyAcc-std()-Y  tBodyAcc-std()-Z  tBodyAcc-mad()-X  tBodyAcc-mad()-Y  \\\n",
            "0         -0.983111         -0.913526         -0.995112         -0.983185   \n",
            "1         -0.975300         -0.960322         -0.998807         -0.974914   \n",
            "2         -0.967187         -0.978944         -0.996520         -0.963668   \n",
            "3         -0.983403         -0.990675         -0.997099         -0.982750   \n",
            "4         -0.980817         -0.990482         -0.998321         -0.979672   \n",
            "\n",
            "   tBodyAcc-mad()-Z  tBodyAcc-max()-X  ...  fBodyBodyGyroJerkMag-meanFreq()  \\\n",
            "0         -0.923527         -0.934724  ...                        -0.074323   \n",
            "1         -0.957686         -0.943068  ...                         0.158075   \n",
            "2         -0.977469         -0.938692  ...                         0.414503   \n",
            "3         -0.989302         -0.938692  ...                         0.404573   \n",
            "4         -0.990441         -0.942469  ...                         0.087753   \n",
            "\n",
            "   fBodyBodyGyroJerkMag-skewness()  fBodyBodyGyroJerkMag-kurtosis()  \\\n",
            "0                        -0.298676                        -0.710304   \n",
            "1                        -0.595051                        -0.861499   \n",
            "2                        -0.390748                        -0.760104   \n",
            "3                        -0.117290                        -0.482845   \n",
            "4                        -0.351471                        -0.699205   \n",
            "\n",
            "   angle(tBodyAccMean,gravity)  angle(tBodyAccJerkMean),gravityMean)  \\\n",
            "0                    -0.112754                              0.030400   \n",
            "1                     0.053477                             -0.007435   \n",
            "2                    -0.118559                              0.177899   \n",
            "3                    -0.036788                             -0.012892   \n",
            "4                     0.123320                              0.122542   \n",
            "\n",
            "   angle(tBodyGyroMean,gravityMean)  angle(tBodyGyroJerkMean,gravityMean)  \\\n",
            "0                         -0.464761                             -0.018446   \n",
            "1                         -0.732626                              0.703511   \n",
            "2                          0.100699                              0.808529   \n",
            "3                          0.640011                             -0.485366   \n",
            "4                          0.693578                             -0.615971   \n",
            "\n",
            "   angle(X,gravityMean)  angle(Y,gravityMean)  angle(Z,gravityMean)  \n",
            "0             -0.841247              0.179941             -0.058627  \n",
            "1             -0.844788              0.180289             -0.054317  \n",
            "2             -0.848933              0.180637             -0.049118  \n",
            "3             -0.848649              0.181935             -0.047663  \n",
            "4             -0.847865              0.185151             -0.043892  \n",
            "\n",
            "[5 rows x 561 columns]\n"
          ]
        }
      ]
    },
    {
      "cell_type": "code",
      "source": [
        "# Display dataset after PCA\n",
        "print(\"\\nX_train after PCA (First 5 rows):\")\n",
        "print(X_train_pca_df.head())"
      ],
      "metadata": {
        "colab": {
          "base_uri": "https://localhost:8080/"
        },
        "id": "hBFP06KSy_-S",
        "outputId": "8a068ac9-d50e-4f02-ee3a-188660898325"
      },
      "execution_count": null,
      "outputs": [
        {
          "output_type": "stream",
          "name": "stdout",
          "text": [
            "\n",
            "X_train after PCA (First 5 rows):\n",
            "         0         1         2         3         4         5         6    \\\n",
            "0 -16.138544  2.152024 -3.144780  0.272464 -6.798938 -4.249394  2.937159   \n",
            "1 -15.296194  1.387144  0.682221 -2.813677 -4.266170 -2.055663  0.011205   \n",
            "2 -15.137019  2.473351  1.756641 -3.717974 -4.181557 -1.357518  0.072947   \n",
            "3 -15.350884  3.915681  1.790322 -2.567521 -3.205840 -0.942944  0.530736   \n",
            "4 -15.544814  4.598737  2.188582 -2.897578 -3.080150 -1.061458 -1.048591   \n",
            "\n",
            "        7         8         9    ...       92        93        94        95   \\\n",
            "0 -4.905413  0.775515  3.627737  ...  1.835069 -0.165438 -1.318898  0.161542   \n",
            "1 -1.845985 -0.492546  0.180175  ... -0.982101 -0.446051 -0.683640  0.624820   \n",
            "2 -1.388188 -0.539754  0.671712  ...  0.961786  0.194423  0.488807  0.138448   \n",
            "3 -1.832185 -1.071517  1.496989  ... -1.320354 -0.160942  0.416531  1.293980   \n",
            "4 -0.816933 -0.600063 -1.118875  ... -0.591161 -0.218499  0.036210 -0.181110   \n",
            "\n",
            "        96        97        98        99        100       101  \n",
            "0 -0.427557  1.337350  2.258507 -1.681535  1.209325 -1.175727  \n",
            "1 -0.347661 -0.752347  0.156624 -1.347392 -0.149474 -0.730615  \n",
            "2 -0.140349  0.436761  0.280990  0.138031 -0.662263 -0.227418  \n",
            "3 -0.486988  0.716588 -0.071360  0.128008  0.139504 -0.909240  \n",
            "4  0.123867 -0.640820  0.704967  0.321897  0.053266 -0.145543  \n",
            "\n",
            "[5 rows x 102 columns]\n"
          ]
        }
      ]
    },
    {
      "cell_type": "code",
      "source": [
        "# Comparing Shape\n",
        "print(\"\\nOriginal X_train shape:\", X_train.shape)\n",
        "print(\"Reduced X_train shape after PCA:\", X_train_pca.shape)"
      ],
      "metadata": {
        "colab": {
          "base_uri": "https://localhost:8080/"
        },
        "id": "6NPkGs2wzoia",
        "outputId": "8149f824-25f0-457a-9d82-93be2649e396"
      },
      "execution_count": null,
      "outputs": [
        {
          "output_type": "stream",
          "name": "stdout",
          "text": [
            "\n",
            "Original X_train shape: (7352, 561)\n",
            "Reduced X_train shape after PCA: (7352, 102)\n"
          ]
        }
      ]
    },
    {
      "cell_type": "code",
      "source": [
        "from sklearn.svm import SVC\n",
        "from sklearn.metrics import accuracy_score\n",
        "\n",
        "clf = SVC(kernel='linear')\n",
        "clf.fit(X_train_pca, y_train.values.ravel())\n",
        "\n",
        "y_pred = clf.predict(X_test_pca)\n",
        "print(\"Classification Accuracy (SVM with PCA):\", accuracy_score(y_test, y_pred))"
      ],
      "metadata": {
        "colab": {
          "base_uri": "https://localhost:8080/"
        },
        "id": "uT1-fWJhzoli",
        "outputId": "9e66a077-f2a9-4b31-f6e5-4355ed6653ee"
      },
      "execution_count": null,
      "outputs": [
        {
          "output_type": "stream",
          "name": "stdout",
          "text": [
            "Classification Accuracy (SVM with PCA): 0.9222938581608415\n"
          ]
        }
      ]
    },
    {
      "cell_type": "code",
      "source": [
        "from sklearn.metrics import accuracy_score, precision_score, recall_score, f1_score, confusion_matrix, classification_report\n",
        "from sklearn.svm import SVC\n",
        "\n",
        "# Train the SVM Classifier\n",
        "clf = SVC(kernel='linear')  # Linear SVM\n",
        "clf.fit(X_train_pca, y_train.values.ravel())\n",
        "\n",
        "# Predict on test data\n",
        "y_pred = clf.predict(X_test_pca)\n",
        "\n",
        "# Compute Evaluation Metrics\n",
        "accuracy = accuracy_score(y_test, y_pred)\n",
        "precision = precision_score(y_test, y_pred, average='weighted')\n",
        "recall = recall_score(y_test, y_pred, average='weighted')\n",
        "f1 = f1_score(y_test, y_pred, average='weighted')\n",
        "conf_matrix = confusion_matrix(y_test, y_pred)\n",
        "\n",
        "# Display results\n",
        "print(f\"Classification Accuracy (SVM with PCA): {accuracy:.4f}\")\n",
        "print(f\"Precision: {precision:.4f}\")\n",
        "print(f\"Recall: {recall:.4f}\")\n",
        "print(f\"F1 Score: {f1:.4f}\")\n",
        "print(\"\\nConfusion Matrix:\")\n",
        "print(conf_matrix)\n",
        "print(\"\\nClassification Report:\")\n",
        "print(classification_report(y_test, y_pred))"
      ],
      "metadata": {
        "colab": {
          "base_uri": "https://localhost:8080/"
        },
        "id": "3o8chMVpzopL",
        "outputId": "c499540b-d1d4-405e-96d2-9314a9fbcdb6"
      },
      "execution_count": null,
      "outputs": [
        {
          "output_type": "stream",
          "name": "stdout",
          "text": [
            "Classification Accuracy (SVM with PCA): 0.9223\n",
            "Precision: 0.9225\n",
            "Recall: 0.9223\n",
            "F1 Score: 0.9221\n",
            "\n",
            "Confusion Matrix:\n",
            "[[479   4  13   0   0   0]\n",
            " [ 31 413  27   0   0   0]\n",
            " [  7  40 373   0   0   0]\n",
            " [  0   1   0 424  66   0]\n",
            " [  0   0   0  39 493   0]\n",
            " [  0   0   0   0   1 536]]\n",
            "\n",
            "Classification Report:\n",
            "              precision    recall  f1-score   support\n",
            "\n",
            "           1       0.93      0.97      0.95       496\n",
            "           2       0.90      0.88      0.89       471\n",
            "           3       0.90      0.89      0.90       420\n",
            "           4       0.92      0.86      0.89       491\n",
            "           5       0.88      0.93      0.90       532\n",
            "           6       1.00      1.00      1.00       537\n",
            "\n",
            "    accuracy                           0.92      2947\n",
            "   macro avg       0.92      0.92      0.92      2947\n",
            "weighted avg       0.92      0.92      0.92      2947\n",
            "\n"
          ]
        }
      ]
    },
    {
      "cell_type": "code",
      "source": [
        "import seaborn as sns\n",
        "import matplotlib.pyplot as plt\n",
        "from sklearn.metrics import confusion_matrix\n",
        "\n",
        "# Compute the confusion matrix\n",
        "cm = confusion_matrix(y_test, y_pred)\n",
        "\n",
        "# Define activity labels\n",
        "labels = [\"Walking\", \"Walking Upstairs\", \"Walking Downstairs\", \"Sitting\", \"Standing\", \"Laying\"]\n",
        "\n",
        "# Create heatmap\n",
        "plt.figure(figsize=(8,6))\n",
        "sns.heatmap(cm, annot=True, fmt=\"d\", cmap=\"Blues\", xticklabels=labels, yticklabels=labels)\n",
        "\n",
        "# Labels and title\n",
        "plt.xlabel(\"Predicted Label\")\n",
        "plt.ylabel(\"True Label\")\n",
        "plt.title(\"Confusion Matrix - SVM Classification\")\n",
        "plt.show()"
      ],
      "metadata": {
        "colab": {
          "base_uri": "https://localhost:8080/",
          "height": 687
        },
        "id": "JksxtaVezos0",
        "outputId": "3160d2d2-7fc1-4d28-aff6-57c1dabf7c51"
      },
      "execution_count": null,
      "outputs": [
        {
          "output_type": "display_data",
          "data": {
            "text/plain": [
              "<Figure size 800x600 with 2 Axes>"
            ],
            "image/png": "[encoded data removed]"
          },
          "metadata": {}
        }
      ]
    },
    {
      "cell_type": "code",
      "source": [
        "from sklearn.linear_model import LinearRegression\n",
        "from sklearn.metrics import mean_absolute_error\n",
        "\n",
        "# Use one of the acceleration features as the target\n",
        "target_feature = \"tBodyAcc-mean()-X\"  # Example feature\n",
        "\n",
        "y_reg_train = X_train[target_feature]\n",
        "y_reg_test = X_test[target_feature]\n",
        "\n",
        "X_train_reg = X_train.drop(columns=[target_feature])\n",
        "X_test_reg = X_test.drop(columns=[target_feature])\n",
        "\n",
        "regressor = LinearRegression()\n",
        "regressor.fit(X_train_reg, y_reg_train)\n",
        "\n",
        "y_reg_pred = regressor.predict(X_test_reg)\n",
        "print(\"Regression MAE (Linear Regression on Acceleration Feature):\", mean_absolute_error(y_reg_test, y_reg_pred))"
      ],
      "metadata": {
        "colab": {
          "base_uri": "https://localhost:8080/"
        },
        "id": "R0bguUnGz8V3",
        "outputId": "2c1c044f-2987-4249-9df3-d58c82004d6d"
      },
      "execution_count": null,
      "outputs": [
        {
          "output_type": "stream",
          "name": "stdout",
          "text": [
            "Regression MAE (Linear Regression on Acceleration Feature): 0.02372692633370998\n"
          ]
        }
      ]
    },
    {
      "cell_type": "code",
      "source": [
        "from sklearn.metrics import mean_absolute_error, r2_score\n",
        "\n",
        "# Compute MAE\n",
        "mae = mean_absolute_error(y_reg_test, y_reg_pred)\n",
        "\n",
        "# Compute R² Score\n",
        "r2 = r2_score(y_reg_test, y_reg_pred)\n",
        "\n",
        "# Display results\n",
        "print(\"Regression MAE (Linear Regression on Acceleration Feature):\", mae)\n",
        "print(\"Regression R² Score (Linear Regression on Acceleration Feature):\", r2)"
      ],
      "metadata": {
        "colab": {
          "base_uri": "https://localhost:8080/"
        },
        "id": "mgchJXEhz8Yx",
        "outputId": "c57f7d9a-0777-4d39-b85e-cdfb81971792"
      },
      "execution_count": null,
      "outputs": [
        {
          "output_type": "stream",
          "name": "stdout",
          "text": [
            "Regression MAE (Linear Regression on Acceleration Feature): 0.02372692633370998\n",
            "Regression R² Score (Linear Regression on Acceleration Feature): 0.7034015340532931\n"
          ]
        }
      ]
    },
    {
      "cell_type": "code",
      "source": [
        "import numpy as np\n",
        "import matplotlib.pyplot as plt\n",
        "\n",
        "# Get feature importance\n",
        "feature_importance = np.abs(regressor.coef_)\n",
        "feature_names = X_train_reg.columns\n",
        "\n",
        "# Sort in descending order\n",
        "sorted_indices = np.argsort(feature_importance)[::-1]\n",
        "\n",
        "# Plot top 10 features\n",
        "plt.figure(figsize=(10, 6))\n",
        "plt.barh([feature_names[i] for i in sorted_indices[:10]], feature_importance[sorted_indices[:10]], color='skyblue')\n",
        "plt.xlabel(\"Feature Importance (Absolute Coefficient Value)\")\n",
        "plt.ylabel(\"Feature Name\")\n",
        "plt.title(\"Top 10 Important Features in Regression Model\")\n",
        "plt.gca().invert_yaxis()\n",
        "plt.show()"
      ],
      "metadata": {
        "colab": {
          "base_uri": "https://localhost:8080/",
          "height": 564
        },
        "id": "8eLPJVLTz8b2",
        "outputId": "ad7c1db4-8e65-4557-86d6-9509234dea0f"
      },
      "execution_count": null,
      "outputs": [
        {
          "output_type": "display_data",
          "data": {
            "text/plain": [
              "<Figure size 1000x600 with 1 Axes>"
            ],
            "image/png": "[encoded data removed]"
          },
          "metadata": {}
        }
      ]
    },
    {
      "cell_type": "code",
      "source": [
        "import seaborn as sns\n",
        "\n",
        "# Scatter plot for actual vs predicted values\n",
        "plt.figure(figsize=(8, 6))\n",
        "sns.scatterplot(x=y_reg_test, y=y_reg_pred, alpha=0.5)\n",
        "plt.plot([min(y_reg_test), max(y_reg_test)], [min(y_reg_test), max(y_reg_test)], color=\"red\", linestyle=\"--\")\n",
        "plt.xlabel(\"Actual Values\")\n",
        "plt.ylabel(\"Predicted Values\")\n",
        "plt.title(\"Actual vs Predicted Values (Linear Regression)\")\n",
        "plt.show()"
      ],
      "metadata": {
        "colab": {
          "base_uri": "https://localhost:8080/",
          "height": 564
        },
        "id": "UOnA_Lrbz8em",
        "outputId": "393be315-f44e-43f8-9b35-97c7c1115bed"
      },
      "execution_count": null,
      "outputs": [
        {
          "output_type": "display_data",
          "data": {
            "text/plain": [
              "<Figure size 800x600 with 1 Axes>"
            ],
            "image/png": "[encoded data removed]"
          },
          "metadata": {}
        }
      ]
    },
    {
      "cell_type": "code",
      "source": [
        "from sklearn.linear_model import RidgeCV, LassoCV\n",
        "\n",
        "# Ridge Regression with Cross-Validation\n",
        "ridge = RidgeCV(alphas=np.logspace(-3, 3, 10), cv=5)\n",
        "ridge.fit(X_train_reg, y_reg_train)\n",
        "ridge_best_alpha = ridge.alpha_\n",
        "\n",
        "# Lasso Regression with Cross-Validation\n",
        "lasso = LassoCV(alphas=np.logspace(-3, 3, 10), cv=5)\n",
        "lasso.fit(X_train_reg, y_reg_train)\n",
        "lasso_best_alpha = lasso.alpha_\n",
        "\n",
        "print(f\"Best Alpha for Ridge: {ridge_best_alpha}\")\n",
        "print(f\"Best Alpha for Lasso: {lasso_best_alpha}\")"
      ],
      "metadata": {
        "colab": {
          "base_uri": "https://localhost:8080/"
        },
        "id": "B89aJ8bVz8hm",
        "outputId": "6df58c07-58d3-4975-e04a-15f483c2555d"
      },
      "execution_count": null,
      "outputs": [
        {
          "output_type": "stream",
          "name": "stdout",
          "text": [
            "Best Alpha for Ridge: 10.0\n",
            "Best Alpha for Lasso: 0.001\n"
          ]
        }
      ]
    },
    {
      "cell_type": "code",
      "source": [
        "from sklearn.preprocessing import StandardScaler\n",
        "from sklearn.linear_model import RidgeCV, LassoCV\n",
        "import numpy as np\n",
        "\n",
        "# Standardize the training data\n",
        "scaler = StandardScaler()\n",
        "X_train_reg_scaled = scaler.fit_transform(X_train_reg)\n",
        "X_test_reg_scaled = scaler.transform(X_test_reg)\n",
        "\n",
        "# Updated alpha range for better tuning\n",
        "ridge_alphas = np.logspace(-4, 4, 20)\n",
        "lasso_alphas = np.logspace(-2, 2, 15)  # Avoid very small alphas\n",
        "\n",
        "# Ridge Regression with Cross-Validation\n",
        "ridge = RidgeCV(alphas=ridge_alphas, cv=5)\n",
        "ridge.fit(X_train_reg_scaled, y_reg_train)\n",
        "ridge_best_alpha = ridge.alpha_\n",
        "\n",
        "# Lasso Regression with Cross-Validation and increased iterations\n",
        "lasso = LassoCV(alphas=lasso_alphas, cv=5, max_iter=5000)\n",
        "lasso.fit(X_train_reg_scaled, y_reg_train)\n",
        "lasso_best_alpha = lasso.alpha_\n",
        "\n",
        "print(f\"Optimized Alpha for Ridge: {ridge_best_alpha}\")\n",
        "print(f\"Optimized Alpha for Lasso: {lasso_best_alpha}\")\n"
      ],
      "metadata": {
        "colab": {
          "base_uri": "https://localhost:8080/"
        },
        "id": "1TVSTlr7ZlgR",
        "outputId": "77b30f44-0ed6-4ece-daf5-2e5d8a2221b1"
      },
      "execution_count": null,
      "outputs": [
        {
          "output_type": "stream",
          "name": "stdout",
          "text": [
            "Optimized Alpha for Ridge: 78.47599703514607\n",
            "Optimized Alpha for Lasso: 0.01\n"
          ]
        }
      ]
    },
    {
      "cell_type": "code",
      "source": [
        "from sklearn.metrics import mean_absolute_error, r2_score\n",
        "\n",
        "# Predict on test data\n",
        "y_ridge_pred = ridge.predict(X_test_reg_scaled)\n",
        "y_lasso_pred = lasso.predict(X_test_reg_scaled)\n",
        "\n",
        "# Compute metrics\n",
        "ridge_mae = mean_absolute_error(y_reg_test, y_ridge_pred)\n",
        "ridge_r2 = r2_score(y_reg_test, y_ridge_pred)\n",
        "\n",
        "lasso_mae = mean_absolute_error(y_reg_test, y_lasso_pred)\n",
        "lasso_r2 = r2_score(y_reg_test, y_lasso_pred)\n",
        "\n",
        "print(f\"Ridge Regression MAE: {ridge_mae}, R² Score: {ridge_r2}\")\n",
        "print(f\"Lasso Regression MAE: {lasso_mae}, R² Score: {lasso_r2}\")\n"
      ],
      "metadata": {
        "colab": {
          "base_uri": "https://localhost:8080/"
        },
        "id": "r2srf_RgbQbF",
        "outputId": "3e5a500f-11c1-477a-b49b-5eecc34313d0"
      },
      "execution_count": null,
      "outputs": [
        {
          "output_type": "stream",
          "name": "stdout",
          "text": [
            "Ridge Regression MAE: 0.023278164623238215, R² Score: 0.7071667903898098\n",
            "Lasso Regression MAE: 0.022954927472007242, R² Score: 0.5252452507818132\n"
          ]
        }
      ]
    },
    {
      "cell_type": "code",
      "source": [
        "selected_features = X_train_reg.columns[lasso.coef_ != 0]\n",
        "print(f\"Features selected by Lasso: {selected_features.tolist()}\")\n"
      ],
      "metadata": {
        "colab": {
          "base_uri": "https://localhost:8080/"
        },
        "id": "qTT5XW3qbQjK",
        "outputId": "9e4f8c71-3ba7-433d-a86e-b8556eba4914"
      },
      "execution_count": null,
      "outputs": [
        {
          "output_type": "stream",
          "name": "stdout",
          "text": [
            "Features selected by Lasso: ['tBodyAcc-mean()-Y', 'tBodyAcc-mean()-Z', 'tBodyAcc-entropy()-X', 'tGravityAcc-iqr()-X', 'angle(tBodyAccMean,gravity)']\n"
          ]
        }
      ]
    },
    {
      "cell_type": "code",
      "source": [
        "print(X_train.columns)\n"
      ],
      "metadata": {
        "colab": {
          "base_uri": "https://localhost:8080/"
        },
        "id": "zDOQTS4-VJux",
        "outputId": "ee7f572f-f277-4360-9a6a-dd61029a464a"
      },
      "execution_count": null,
      "outputs": [
        {
          "output_type": "stream",
          "name": "stdout",
          "text": [
            "Index(['tBodyAcc-mean()-X', 'tBodyAcc-mean()-Y', 'tBodyAcc-mean()-Z',\n",
            "       'tBodyAcc-std()-X', 'tBodyAcc-std()-Y', 'tBodyAcc-std()-Z',\n",
            "       'tBodyAcc-mad()-X', 'tBodyAcc-mad()-Y', 'tBodyAcc-mad()-Z',\n",
            "       'tBodyAcc-max()-X',\n",
            "       ...\n",
            "       'fBodyBodyGyroJerkMag-meanFreq()', 'fBodyBodyGyroJerkMag-skewness()',\n",
            "       'fBodyBodyGyroJerkMag-kurtosis()', 'angle(tBodyAccMean,gravity)',\n",
            "       'angle(tBodyAccJerkMean),gravityMean)',\n",
            "       'angle(tBodyGyroMean,gravityMean)',\n",
            "       'angle(tBodyGyroJerkMean,gravityMean)', 'angle(X,gravityMean)',\n",
            "       'angle(Y,gravityMean)', 'angle(Z,gravityMean)'],\n",
            "      dtype='object', length=561)\n"
          ]
        }
      ]
    },
    {
      "cell_type": "code",
      "source": [
        "for col in X_train.columns:\n",
        "    print(col)\n"
      ],
      "metadata": {
        "colab": {
          "base_uri": "https://localhost:8080/"
        },
        "id": "ZWR-AjX0WJ0Y",
        "outputId": "89b5cac7-ad56-4115-d3ac-83ef206ea796"
      },
      "execution_count": null,
      "outputs": [
        {
          "output_type": "stream",
          "name": "stdout",
          "text": [
            "tBodyAcc-mean()-X\n",
            "tBodyAcc-mean()-Y\n",
            "tBodyAcc-mean()-Z\n",
            "tBodyAcc-std()-X\n",
            "tBodyAcc-std()-Y\n",
            "tBodyAcc-std()-Z\n",
            "tBodyAcc-mad()-X\n",
            "tBodyAcc-mad()-Y\n",
            "tBodyAcc-mad()-Z\n",
            "tBodyAcc-max()-X\n",
            "tBodyAcc-max()-Y\n",
            "tBodyAcc-max()-Z\n",
            "tBodyAcc-min()-X\n",
            "tBodyAcc-min()-Y\n",
            "tBodyAcc-min()-Z\n",
            "tBodyAcc-sma()\n",
            "tBodyAcc-energy()-X\n",
            "tBodyAcc-energy()-Y\n",
            "tBodyAcc-energy()-Z\n",
            "tBodyAcc-iqr()-X\n",
            "tBodyAcc-iqr()-Y\n",
            "tBodyAcc-iqr()-Z\n",
            "tBodyAcc-entropy()-X\n",
            "tBodyAcc-entropy()-Y\n",
            "tBodyAcc-entropy()-Z\n",
            "tBodyAcc-arCoeff()-X,1\n",
            "tBodyAcc-arCoeff()-X,2\n",
            "tBodyAcc-arCoeff()-X,3\n",
            "tBodyAcc-arCoeff()-X,4\n",
            "tBodyAcc-arCoeff()-Y,1\n",
            "tBodyAcc-arCoeff()-Y,2\n",
            "tBodyAcc-arCoeff()-Y,3\n",
            "tBodyAcc-arCoeff()-Y,4\n",
            "tBodyAcc-arCoeff()-Z,1\n",
            "tBodyAcc-arCoeff()-Z,2\n",
            "tBodyAcc-arCoeff()-Z,3\n",
            "tBodyAcc-arCoeff()-Z,4\n",
            "tBodyAcc-correlation()-X,Y\n",
            "tBodyAcc-correlation()-X,Z\n",
            "tBodyAcc-correlation()-Y,Z\n",
            "tGravityAcc-mean()-X\n",
            "tGravityAcc-mean()-Y\n",
            "tGravityAcc-mean()-Z\n",
            "tGravityAcc-std()-X\n",
            "tGravityAcc-std()-Y\n",
            "tGravityAcc-std()-Z\n",
            "tGravityAcc-mad()-X\n",
            "tGravityAcc-mad()-Y\n",
            "tGravityAcc-mad()-Z\n",
            "tGravityAcc-max()-X\n",
            "tGravityAcc-max()-Y\n",
            "tGravityAcc-max()-Z\n",
            "tGravityAcc-min()-X\n",
            "tGravityAcc-min()-Y\n",
            "tGravityAcc-min()-Z\n",
            "tGravityAcc-sma()\n",
            "tGravityAcc-energy()-X\n",
            "tGravityAcc-energy()-Y\n",
            "tGravityAcc-energy()-Z\n",
            "tGravityAcc-iqr()-X\n",
            "tGravityAcc-iqr()-Y\n",
            "tGravityAcc-iqr()-Z\n",
            "tGravityAcc-entropy()-X\n",
            "tGravityAcc-entropy()-Y\n",
            "tGravityAcc-entropy()-Z\n",
            "tGravityAcc-arCoeff()-X,1\n",
            "tGravityAcc-arCoeff()-X,2\n",
            "tGravityAcc-arCoeff()-X,3\n",
            "tGravityAcc-arCoeff()-X,4\n",
            "tGravityAcc-arCoeff()-Y,1\n",
            "tGravityAcc-arCoeff()-Y,2\n",
            "tGravityAcc-arCoeff()-Y,3\n",
            "tGravityAcc-arCoeff()-Y,4\n",
            "tGravityAcc-arCoeff()-Z,1\n",
            "tGravityAcc-arCoeff()-Z,2\n",
            "tGravityAcc-arCoeff()-Z,3\n",
            "tGravityAcc-arCoeff()-Z,4\n",
            "tGravityAcc-correlation()-X,Y\n",
            "tGravityAcc-correlation()-X,Z\n",
            "tGravityAcc-correlation()-Y,Z\n",
            "tBodyAccJerk-mean()-X\n",
            "tBodyAccJerk-mean()-Y\n",
            "tBodyAccJerk-mean()-Z\n",
            "tBodyAccJerk-std()-X\n",
            "tBodyAccJerk-std()-Y\n",
            "tBodyAccJerk-std()-Z\n",
            "tBodyAccJerk-mad()-X\n",
            "tBodyAccJerk-mad()-Y\n",
            "tBodyAccJerk-mad()-Z\n",
            "tBodyAccJerk-max()-X\n",
            "tBodyAccJerk-max()-Y\n",
            "tBodyAccJerk-max()-Z\n",
            "tBodyAccJerk-min()-X\n",
            "tBodyAccJerk-min()-Y\n",
            "tBodyAccJerk-min()-Z\n",
            "tBodyAccJerk-sma()\n",
            "tBodyAccJerk-energy()-X\n",
            "tBodyAccJerk-energy()-Y\n",
            "tBodyAccJerk-energy()-Z\n",
            "tBodyAccJerk-iqr()-X\n",
            "tBodyAccJerk-iqr()-Y\n",
            "tBodyAccJerk-iqr()-Z\n",
            "tBodyAccJerk-entropy()-X\n",
            "tBodyAccJerk-entropy()-Y\n",
            "tBodyAccJerk-entropy()-Z\n",
            "tBodyAccJerk-arCoeff()-X,1\n",
            "tBodyAccJerk-arCoeff()-X,2\n",
            "tBodyAccJerk-arCoeff()-X,3\n",
            "tBodyAccJerk-arCoeff()-X,4\n",
            "tBodyAccJerk-arCoeff()-Y,1\n",
            "tBodyAccJerk-arCoeff()-Y,2\n",
            "tBodyAccJerk-arCoeff()-Y,3\n",
            "tBodyAccJerk-arCoeff()-Y,4\n",
            "tBodyAccJerk-arCoeff()-Z,1\n",
            "tBodyAccJerk-arCoeff()-Z,2\n",
            "tBodyAccJerk-arCoeff()-Z,3\n",
            "tBodyAccJerk-arCoeff()-Z,4\n",
            "tBodyAccJerk-correlation()-X,Y\n",
            "tBodyAccJerk-correlation()-X,Z\n",
            "tBodyAccJerk-correlation()-Y,Z\n",
            "tBodyGyro-mean()-X\n",
            "tBodyGyro-mean()-Y\n",
            "tBodyGyro-mean()-Z\n",
            "tBodyGyro-std()-X\n",
            "tBodyGyro-std()-Y\n",
            "tBodyGyro-std()-Z\n",
            "tBodyGyro-mad()-X\n",
            "tBodyGyro-mad()-Y\n",
            "tBodyGyro-mad()-Z\n",
            "tBodyGyro-max()-X\n",
            "tBodyGyro-max()-Y\n",
            "tBodyGyro-max()-Z\n",
            "tBodyGyro-min()-X\n",
            "tBodyGyro-min()-Y\n",
            "tBodyGyro-min()-Z\n",
            "tBodyGyro-sma()\n",
            "tBodyGyro-energy()-X\n",
            "tBodyGyro-energy()-Y\n",
            "tBodyGyro-energy()-Z\n",
            "tBodyGyro-iqr()-X\n",
            "tBodyGyro-iqr()-Y\n",
            "tBodyGyro-iqr()-Z\n",
            "tBodyGyro-entropy()-X\n",
            "tBodyGyro-entropy()-Y\n",
            "tBodyGyro-entropy()-Z\n",
            "tBodyGyro-arCoeff()-X,1\n",
            "tBodyGyro-arCoeff()-X,2\n",
            "tBodyGyro-arCoeff()-X,3\n",
            "tBodyGyro-arCoeff()-X,4\n",
            "tBodyGyro-arCoeff()-Y,1\n",
            "tBodyGyro-arCoeff()-Y,2\n",
            "tBodyGyro-arCoeff()-Y,3\n",
            "tBodyGyro-arCoeff()-Y,4\n",
            "tBodyGyro-arCoeff()-Z,1\n",
            "tBodyGyro-arCoeff()-Z,2\n",
            "tBodyGyro-arCoeff()-Z,3\n",
            "tBodyGyro-arCoeff()-Z,4\n",
            "tBodyGyro-correlation()-X,Y\n",
            "tBodyGyro-correlation()-X,Z\n",
            "tBodyGyro-correlation()-Y,Z\n",
            "tBodyGyroJerk-mean()-X\n",
            "tBodyGyroJerk-mean()-Y\n",
            "tBodyGyroJerk-mean()-Z\n",
            "tBodyGyroJerk-std()-X\n",
            "tBodyGyroJerk-std()-Y\n",
            "tBodyGyroJerk-std()-Z\n",
            "tBodyGyroJerk-mad()-X\n",
            "tBodyGyroJerk-mad()-Y\n",
            "tBodyGyroJerk-mad()-Z\n",
            "tBodyGyroJerk-max()-X\n",
            "tBodyGyroJerk-max()-Y\n",
            "tBodyGyroJerk-max()-Z\n",
            "tBodyGyroJerk-min()-X\n",
            "tBodyGyroJerk-min()-Y\n",
            "tBodyGyroJerk-min()-Z\n",
            "tBodyGyroJerk-sma()\n",
            "tBodyGyroJerk-energy()-X\n",
            "tBodyGyroJerk-energy()-Y\n",
            "tBodyGyroJerk-energy()-Z\n",
            "tBodyGyroJerk-iqr()-X\n",
            "tBodyGyroJerk-iqr()-Y\n",
            "tBodyGyroJerk-iqr()-Z\n",
            "tBodyGyroJerk-entropy()-X\n",
            "tBodyGyroJerk-entropy()-Y\n",
            "tBodyGyroJerk-entropy()-Z\n",
            "tBodyGyroJerk-arCoeff()-X,1\n",
            "tBodyGyroJerk-arCoeff()-X,2\n",
            "tBodyGyroJerk-arCoeff()-X,3\n",
            "tBodyGyroJerk-arCoeff()-X,4\n",
            "tBodyGyroJerk-arCoeff()-Y,1\n",
            "tBodyGyroJerk-arCoeff()-Y,2\n",
            "tBodyGyroJerk-arCoeff()-Y,3\n",
            "tBodyGyroJerk-arCoeff()-Y,4\n",
            "tBodyGyroJerk-arCoeff()-Z,1\n",
            "tBodyGyroJerk-arCoeff()-Z,2\n",
            "tBodyGyroJerk-arCoeff()-Z,3\n",
            "tBodyGyroJerk-arCoeff()-Z,4\n",
            "tBodyGyroJerk-correlation()-X,Y\n",
            "tBodyGyroJerk-correlation()-X,Z\n",
            "tBodyGyroJerk-correlation()-Y,Z\n",
            "tBodyAccMag-mean()\n",
            "tBodyAccMag-std()\n",
            "tBodyAccMag-mad()\n",
            "tBodyAccMag-max()\n",
            "tBodyAccMag-min()\n",
            "tBodyAccMag-sma()\n",
            "tBodyAccMag-energy()\n",
            "tBodyAccMag-iqr()\n",
            "tBodyAccMag-entropy()\n",
            "tBodyAccMag-arCoeff()1\n",
            "tBodyAccMag-arCoeff()2\n",
            "tBodyAccMag-arCoeff()3\n",
            "tBodyAccMag-arCoeff()4\n",
            "tGravityAccMag-mean()\n",
            "tGravityAccMag-std()\n",
            "tGravityAccMag-mad()\n",
            "tGravityAccMag-max()\n",
            "tGravityAccMag-min()\n",
            "tGravityAccMag-sma()\n",
            "tGravityAccMag-energy()\n",
            "tGravityAccMag-iqr()\n",
            "tGravityAccMag-entropy()\n",
            "tGravityAccMag-arCoeff()1\n",
            "tGravityAccMag-arCoeff()2\n",
            "tGravityAccMag-arCoeff()3\n",
            "tGravityAccMag-arCoeff()4\n",
            "tBodyAccJerkMag-mean()\n",
            "tBodyAccJerkMag-std()\n",
            "tBodyAccJerkMag-mad()\n",
            "tBodyAccJerkMag-max()\n",
            "tBodyAccJerkMag-min()\n",
            "tBodyAccJerkMag-sma()\n",
            "tBodyAccJerkMag-energy()\n",
            "tBodyAccJerkMag-iqr()\n",
            "tBodyAccJerkMag-entropy()\n",
            "tBodyAccJerkMag-arCoeff()1\n",
            "tBodyAccJerkMag-arCoeff()2\n",
            "tBodyAccJerkMag-arCoeff()3\n",
            "tBodyAccJerkMag-arCoeff()4\n",
            "tBodyGyroMag-mean()\n",
            "tBodyGyroMag-std()\n",
            "tBodyGyroMag-mad()\n",
            "tBodyGyroMag-max()\n",
            "tBodyGyroMag-min()\n",
            "tBodyGyroMag-sma()\n",
            "tBodyGyroMag-energy()\n",
            "tBodyGyroMag-iqr()\n",
            "tBodyGyroMag-entropy()\n",
            "tBodyGyroMag-arCoeff()1\n",
            "tBodyGyroMag-arCoeff()2\n",
            "tBodyGyroMag-arCoeff()3\n",
            "tBodyGyroMag-arCoeff()4\n",
            "tBodyGyroJerkMag-mean()\n",
            "tBodyGyroJerkMag-std()\n",
            "tBodyGyroJerkMag-mad()\n",
            "tBodyGyroJerkMag-max()\n",
            "tBodyGyroJerkMag-min()\n",
            "tBodyGyroJerkMag-sma()\n",
            "tBodyGyroJerkMag-energy()\n",
            "tBodyGyroJerkMag-iqr()\n",
            "tBodyGyroJerkMag-entropy()\n",
            "tBodyGyroJerkMag-arCoeff()1\n",
            "tBodyGyroJerkMag-arCoeff()2\n",
            "tBodyGyroJerkMag-arCoeff()3\n",
            "tBodyGyroJerkMag-arCoeff()4\n",
            "fBodyAcc-mean()-X\n",
            "fBodyAcc-mean()-Y\n",
            "fBodyAcc-mean()-Z\n",
            "fBodyAcc-std()-X\n",
            "fBodyAcc-std()-Y\n",
            "fBodyAcc-std()-Z\n",
            "fBodyAcc-mad()-X\n",
            "fBodyAcc-mad()-Y\n",
            "fBodyAcc-mad()-Z\n",
            "fBodyAcc-max()-X\n",
            "fBodyAcc-max()-Y\n",
            "fBodyAcc-max()-Z\n",
            "fBodyAcc-min()-X\n",
            "fBodyAcc-min()-Y\n",
            "fBodyAcc-min()-Z\n",
            "fBodyAcc-sma()\n",
            "fBodyAcc-energy()-X\n",
            "fBodyAcc-energy()-Y\n",
            "fBodyAcc-energy()-Z\n",
            "fBodyAcc-iqr()-X\n",
            "fBodyAcc-iqr()-Y\n",
            "fBodyAcc-iqr()-Z\n",
            "fBodyAcc-entropy()-X\n",
            "fBodyAcc-entropy()-Y\n",
            "fBodyAcc-entropy()-Z\n",
            "fBodyAcc-maxInds-X\n",
            "fBodyAcc-maxInds-Y\n",
            "fBodyAcc-maxInds-Z\n",
            "fBodyAcc-meanFreq()-X\n",
            "fBodyAcc-meanFreq()-Y\n",
            "fBodyAcc-meanFreq()-Z\n",
            "fBodyAcc-skewness()-X\n",
            "fBodyAcc-kurtosis()-X\n",
            "fBodyAcc-skewness()-Y\n",
            "fBodyAcc-kurtosis()-Y\n",
            "fBodyAcc-skewness()-Z\n",
            "fBodyAcc-kurtosis()-Z\n",
            "fBodyAcc-bandsEnergy()-1,8\n",
            "fBodyAcc-bandsEnergy()-9,16\n",
            "fBodyAcc-bandsEnergy()-17,24\n",
            "fBodyAcc-bandsEnergy()-25,32\n",
            "fBodyAcc-bandsEnergy()-33,40\n",
            "fBodyAcc-bandsEnergy()-41,48\n",
            "fBodyAcc-bandsEnergy()-49,56\n",
            "fBodyAcc-bandsEnergy()-57,64\n",
            "fBodyAcc-bandsEnergy()-1,16\n",
            "fBodyAcc-bandsEnergy()-17,32\n",
            "fBodyAcc-bandsEnergy()-33,48\n",
            "fBodyAcc-bandsEnergy()-49,64\n",
            "fBodyAcc-bandsEnergy()-1,24\n",
            "fBodyAcc-bandsEnergy()-25,48\n",
            "fBodyAcc-bandsEnergy()-1,8_1\n",
            "fBodyAcc-bandsEnergy()-9,16_1\n",
            "fBodyAcc-bandsEnergy()-17,24_1\n",
            "fBodyAcc-bandsEnergy()-25,32_1\n",
            "fBodyAcc-bandsEnergy()-33,40_1\n",
            "fBodyAcc-bandsEnergy()-41,48_1\n",
            "fBodyAcc-bandsEnergy()-49,56_1\n",
            "fBodyAcc-bandsEnergy()-57,64_1\n",
            "fBodyAcc-bandsEnergy()-1,16_1\n",
            "fBodyAcc-bandsEnergy()-17,32_1\n",
            "fBodyAcc-bandsEnergy()-33,48_1\n",
            "fBodyAcc-bandsEnergy()-49,64_1\n",
            "fBodyAcc-bandsEnergy()-1,24_1\n",
            "fBodyAcc-bandsEnergy()-25,48_1\n",
            "fBodyAcc-bandsEnergy()-1,8_2\n",
            "fBodyAcc-bandsEnergy()-9,16_2\n",
            "fBodyAcc-bandsEnergy()-17,24_2\n",
            "fBodyAcc-bandsEnergy()-25,32_2\n",
            "fBodyAcc-bandsEnergy()-33,40_2\n",
            "fBodyAcc-bandsEnergy()-41,48_2\n",
            "fBodyAcc-bandsEnergy()-49,56_2\n",
            "fBodyAcc-bandsEnergy()-57,64_2\n",
            "fBodyAcc-bandsEnergy()-1,16_2\n",
            "fBodyAcc-bandsEnergy()-17,32_2\n",
            "fBodyAcc-bandsEnergy()-33,48_2\n",
            "fBodyAcc-bandsEnergy()-49,64_2\n",
            "fBodyAcc-bandsEnergy()-1,24_2\n",
            "fBodyAcc-bandsEnergy()-25,48_2\n",
            "fBodyAccJerk-mean()-X\n",
            "fBodyAccJerk-mean()-Y\n",
            "fBodyAccJerk-mean()-Z\n",
            "fBodyAccJerk-std()-X\n",
            "fBodyAccJerk-std()-Y\n",
            "fBodyAccJerk-std()-Z\n",
            "fBodyAccJerk-mad()-X\n",
            "fBodyAccJerk-mad()-Y\n",
            "fBodyAccJerk-mad()-Z\n",
            "fBodyAccJerk-max()-X\n",
            "fBodyAccJerk-max()-Y\n",
            "fBodyAccJerk-max()-Z\n",
            "fBodyAccJerk-min()-X\n",
            "fBodyAccJerk-min()-Y\n",
            "fBodyAccJerk-min()-Z\n",
            "fBodyAccJerk-sma()\n",
            "fBodyAccJerk-energy()-X\n",
            "fBodyAccJerk-energy()-Y\n",
            "fBodyAccJerk-energy()-Z\n",
            "fBodyAccJerk-iqr()-X\n",
            "fBodyAccJerk-iqr()-Y\n",
            "fBodyAccJerk-iqr()-Z\n",
            "fBodyAccJerk-entropy()-X\n",
            "fBodyAccJerk-entropy()-Y\n",
            "fBodyAccJerk-entropy()-Z\n",
            "fBodyAccJerk-maxInds-X\n",
            "fBodyAccJerk-maxInds-Y\n",
            "fBodyAccJerk-maxInds-Z\n",
            "fBodyAccJerk-meanFreq()-X\n",
            "fBodyAccJerk-meanFreq()-Y\n",
            "fBodyAccJerk-meanFreq()-Z\n",
            "fBodyAccJerk-skewness()-X\n",
            "fBodyAccJerk-kurtosis()-X\n",
            "fBodyAccJerk-skewness()-Y\n",
            "fBodyAccJerk-kurtosis()-Y\n",
            "fBodyAccJerk-skewness()-Z\n",
            "fBodyAccJerk-kurtosis()-Z\n",
            "fBodyAccJerk-bandsEnergy()-1,8\n",
            "fBodyAccJerk-bandsEnergy()-9,16\n",
            "fBodyAccJerk-bandsEnergy()-17,24\n",
            "fBodyAccJerk-bandsEnergy()-25,32\n",
            "fBodyAccJerk-bandsEnergy()-33,40\n",
            "fBodyAccJerk-bandsEnergy()-41,48\n",
            "fBodyAccJerk-bandsEnergy()-49,56\n",
            "fBodyAccJerk-bandsEnergy()-57,64\n",
            "fBodyAccJerk-bandsEnergy()-1,16\n",
            "fBodyAccJerk-bandsEnergy()-17,32\n",
            "fBodyAccJerk-bandsEnergy()-33,48\n",
            "fBodyAccJerk-bandsEnergy()-49,64\n",
            "fBodyAccJerk-bandsEnergy()-1,24\n",
            "fBodyAccJerk-bandsEnergy()-25,48\n",
            "fBodyAccJerk-bandsEnergy()-1,8_1\n",
            "fBodyAccJerk-bandsEnergy()-9,16_1\n",
            "fBodyAccJerk-bandsEnergy()-17,24_1\n",
            "fBodyAccJerk-bandsEnergy()-25,32_1\n",
            "fBodyAccJerk-bandsEnergy()-33,40_1\n",
            "fBodyAccJerk-bandsEnergy()-41,48_1\n",
            "fBodyAccJerk-bandsEnergy()-49,56_1\n",
            "fBodyAccJerk-bandsEnergy()-57,64_1\n",
            "fBodyAccJerk-bandsEnergy()-1,16_1\n",
            "fBodyAccJerk-bandsEnergy()-17,32_1\n",
            "fBodyAccJerk-bandsEnergy()-33,48_1\n",
            "fBodyAccJerk-bandsEnergy()-49,64_1\n",
            "fBodyAccJerk-bandsEnergy()-1,24_1\n",
            "fBodyAccJerk-bandsEnergy()-25,48_1\n",
            "fBodyAccJerk-bandsEnergy()-1,8_2\n",
            "fBodyAccJerk-bandsEnergy()-9,16_2\n",
            "fBodyAccJerk-bandsEnergy()-17,24_2\n",
            "fBodyAccJerk-bandsEnergy()-25,32_2\n",
            "fBodyAccJerk-bandsEnergy()-33,40_2\n",
            "fBodyAccJerk-bandsEnergy()-41,48_2\n",
            "fBodyAccJerk-bandsEnergy()-49,56_2\n",
            "fBodyAccJerk-bandsEnergy()-57,64_2\n",
            "fBodyAccJerk-bandsEnergy()-1,16_2\n",
            "fBodyAccJerk-bandsEnergy()-17,32_2\n",
            "fBodyAccJerk-bandsEnergy()-33,48_2\n",
            "fBodyAccJerk-bandsEnergy()-49,64_2\n",
            "fBodyAccJerk-bandsEnergy()-1,24_2\n",
            "fBodyAccJerk-bandsEnergy()-25,48_2\n",
            "fBodyGyro-mean()-X\n",
            "fBodyGyro-mean()-Y\n",
            "fBodyGyro-mean()-Z\n",
            "fBodyGyro-std()-X\n",
            "fBodyGyro-std()-Y\n",
            "fBodyGyro-std()-Z\n",
            "fBodyGyro-mad()-X\n",
            "fBodyGyro-mad()-Y\n",
            "fBodyGyro-mad()-Z\n",
            "fBodyGyro-max()-X\n",
            "fBodyGyro-max()-Y\n",
            "fBodyGyro-max()-Z\n",
            "fBodyGyro-min()-X\n",
            "fBodyGyro-min()-Y\n",
            "fBodyGyro-min()-Z\n",
            "fBodyGyro-sma()\n",
            "fBodyGyro-energy()-X\n",
            "fBodyGyro-energy()-Y\n",
            "fBodyGyro-energy()-Z\n",
            "fBodyGyro-iqr()-X\n",
            "fBodyGyro-iqr()-Y\n",
            "fBodyGyro-iqr()-Z\n",
            "fBodyGyro-entropy()-X\n",
            "fBodyGyro-entropy()-Y\n",
            "fBodyGyro-entropy()-Z\n",
            "fBodyGyro-maxInds-X\n",
            "fBodyGyro-maxInds-Y\n",
            "fBodyGyro-maxInds-Z\n",
            "fBodyGyro-meanFreq()-X\n",
            "fBodyGyro-meanFreq()-Y\n",
            "fBodyGyro-meanFreq()-Z\n",
            "fBodyGyro-skewness()-X\n",
            "fBodyGyro-kurtosis()-X\n",
            "fBodyGyro-skewness()-Y\n",
            "fBodyGyro-kurtosis()-Y\n",
            "fBodyGyro-skewness()-Z\n",
            "fBodyGyro-kurtosis()-Z\n",
            "fBodyGyro-bandsEnergy()-1,8\n",
            "fBodyGyro-bandsEnergy()-9,16\n",
            "fBodyGyro-bandsEnergy()-17,24\n",
            "fBodyGyro-bandsEnergy()-25,32\n",
            "fBodyGyro-bandsEnergy()-33,40\n",
            "fBodyGyro-bandsEnergy()-41,48\n",
            "fBodyGyro-bandsEnergy()-49,56\n",
            "fBodyGyro-bandsEnergy()-57,64\n",
            "fBodyGyro-bandsEnergy()-1,16\n",
            "fBodyGyro-bandsEnergy()-17,32\n",
            "fBodyGyro-bandsEnergy()-33,48\n",
            "fBodyGyro-bandsEnergy()-49,64\n",
            "fBodyGyro-bandsEnergy()-1,24\n",
            "fBodyGyro-bandsEnergy()-25,48\n",
            "fBodyGyro-bandsEnergy()-1,8_1\n",
            "fBodyGyro-bandsEnergy()-9,16_1\n",
            "fBodyGyro-bandsEnergy()-17,24_1\n",
            "fBodyGyro-bandsEnergy()-25,32_1\n",
            "fBodyGyro-bandsEnergy()-33,40_1\n",
            "fBodyGyro-bandsEnergy()-41,48_1\n",
            "fBodyGyro-bandsEnergy()-49,56_1\n",
            "fBodyGyro-bandsEnergy()-57,64_1\n",
            "fBodyGyro-bandsEnergy()-1,16_1\n",
            "fBodyGyro-bandsEnergy()-17,32_1\n",
            "fBodyGyro-bandsEnergy()-33,48_1\n",
            "fBodyGyro-bandsEnergy()-49,64_1\n",
            "fBodyGyro-bandsEnergy()-1,24_1\n",
            "fBodyGyro-bandsEnergy()-25,48_1\n",
            "fBodyGyro-bandsEnergy()-1,8_2\n",
            "fBodyGyro-bandsEnergy()-9,16_2\n",
            "fBodyGyro-bandsEnergy()-17,24_2\n",
            "fBodyGyro-bandsEnergy()-25,32_2\n",
            "fBodyGyro-bandsEnergy()-33,40_2\n",
            "fBodyGyro-bandsEnergy()-41,48_2\n",
            "fBodyGyro-bandsEnergy()-49,56_2\n",
            "fBodyGyro-bandsEnergy()-57,64_2\n",
            "fBodyGyro-bandsEnergy()-1,16_2\n",
            "fBodyGyro-bandsEnergy()-17,32_2\n",
            "fBodyGyro-bandsEnergy()-33,48_2\n",
            "fBodyGyro-bandsEnergy()-49,64_2\n",
            "fBodyGyro-bandsEnergy()-1,24_2\n",
            "fBodyGyro-bandsEnergy()-25,48_2\n",
            "fBodyAccMag-mean()\n",
            "fBodyAccMag-std()\n",
            "fBodyAccMag-mad()\n",
            "fBodyAccMag-max()\n",
            "fBodyAccMag-min()\n",
            "fBodyAccMag-sma()\n",
            "fBodyAccMag-energy()\n",
            "fBodyAccMag-iqr()\n",
            "fBodyAccMag-entropy()\n",
            "fBodyAccMag-maxInds\n",
            "fBodyAccMag-meanFreq()\n",
            "fBodyAccMag-skewness()\n",
            "fBodyAccMag-kurtosis()\n",
            "fBodyBodyAccJerkMag-mean()\n",
            "fBodyBodyAccJerkMag-std()\n",
            "fBodyBodyAccJerkMag-mad()\n",
            "fBodyBodyAccJerkMag-max()\n",
            "fBodyBodyAccJerkMag-min()\n",
            "fBodyBodyAccJerkMag-sma()\n",
            "fBodyBodyAccJerkMag-energy()\n",
            "fBodyBodyAccJerkMag-iqr()\n",
            "fBodyBodyAccJerkMag-entropy()\n",
            "fBodyBodyAccJerkMag-maxInds\n",
            "fBodyBodyAccJerkMag-meanFreq()\n",
            "fBodyBodyAccJerkMag-skewness()\n",
            "fBodyBodyAccJerkMag-kurtosis()\n",
            "fBodyBodyGyroMag-mean()\n",
            "fBodyBodyGyroMag-std()\n",
            "fBodyBodyGyroMag-mad()\n",
            "fBodyBodyGyroMag-max()\n",
            "fBodyBodyGyroMag-min()\n",
            "fBodyBodyGyroMag-sma()\n",
            "fBodyBodyGyroMag-energy()\n",
            "fBodyBodyGyroMag-iqr()\n",
            "fBodyBodyGyroMag-entropy()\n",
            "fBodyBodyGyroMag-maxInds\n",
            "fBodyBodyGyroMag-meanFreq()\n",
            "fBodyBodyGyroMag-skewness()\n",
            "fBodyBodyGyroMag-kurtosis()\n",
            "fBodyBodyGyroJerkMag-mean()\n",
            "fBodyBodyGyroJerkMag-std()\n",
            "fBodyBodyGyroJerkMag-mad()\n",
            "fBodyBodyGyroJerkMag-max()\n",
            "fBodyBodyGyroJerkMag-min()\n",
            "fBodyBodyGyroJerkMag-sma()\n",
            "fBodyBodyGyroJerkMag-energy()\n",
            "fBodyBodyGyroJerkMag-iqr()\n",
            "fBodyBodyGyroJerkMag-entropy()\n",
            "fBodyBodyGyroJerkMag-maxInds\n",
            "fBodyBodyGyroJerkMag-meanFreq()\n",
            "fBodyBodyGyroJerkMag-skewness()\n",
            "fBodyBodyGyroJerkMag-kurtosis()\n",
            "angle(tBodyAccMean,gravity)\n",
            "angle(tBodyAccJerkMean),gravityMean)\n",
            "angle(tBodyGyroMean,gravityMean)\n",
            "angle(tBodyGyroJerkMean,gravityMean)\n",
            "angle(X,gravityMean)\n",
            "angle(Y,gravityMean)\n",
            "angle(Z,gravityMean)\n"
          ]
        }
      ]
    }
  ]
}